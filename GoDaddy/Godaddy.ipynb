{
 "cells": [
  {
   "cell_type": "code",
   "execution_count": null,
   "id": "d03c7e4e",
   "metadata": {},
   "outputs": [],
   "source": [
    "import requests\n",
    "import random\n",
    "import time\n",
    "import pandas as pd\n",
    "\n",
    "from GPMLoginAPI import GPMLoginAPI\n",
    "from selenium.webdriver.chrome import service\n",
    "from selenium.webdriver.chrome.options import Options\n",
    "from UndetectChromeDriver import UndetectChromeDriver\n"
   ]
  },
  {
   "cell_type": "code",
   "execution_count": null,
   "id": "929acbd7",
   "metadata": {},
   "outputs": [],
   "source": [
    "STATUS = { 0: \"Buy It Now\",\n",
    "          38: \"Place Bid\",\n",
    "          33: \"Make Offer\",\n",
    "          39: \"Buy It Now\",\n",
    "          23: \"Buy It Now\",\n",
    "          10: \"Get It\",\n",
    "          15: \"Get It\"}"
   ]
  },
  {
   "cell_type": "code",
   "execution_count": null,
   "id": "ead5fcf9",
   "metadata": {},
   "outputs": [],
   "source": [
    "HEADERS = {\"Accept\": 'text/html,application/xhtml+xml,application/xml;q=0.9,image/avif,image/webp,image/apng,*/*;q=0.8,application/signed-exchange;v=b3;q=0.9',\n",
    "           \"User-Agent\": 'Mozilla/5.0 (Windows NT 10.0; Win64; x64) AppleWebKit/537.36 (KHTML, like Gecko) Chrome/108.0.0.0 Safari/537.36'}\n"
   ]
  },
  {
   "cell_type": "code",
   "execution_count": null,
   "id": "d088eae8",
   "metadata": {},
   "outputs": [],
   "source": [
    "domains = open('domain_go.txt').read().splitlines()\n",
    "len(domains)"
   ]
  },
  {
   "cell_type": "code",
   "execution_count": null,
   "id": "805d6527",
   "metadata": {},
   "outputs": [],
   "source": [
    "# API GPM\n",
    "api = GPMLoginAPI('http://127.0.0.1:19995')"
   ]
  },
  {
   "cell_type": "code",
   "execution_count": null,
   "id": "5c6f2e56",
   "metadata": {},
   "outputs": [],
   "source": [
    "# Tạo proifile GPM\n",
    "def init_driver():\n",
    "    profileid = api.Create(time.time())['profile_id']\n",
    "    startedResult = api.Start(profileid)\n",
    "    browserLocation = str(startedResult[\"browser_location\"])\n",
    "    seleniumRemoteDebugAddress = str(startedResult[\"selenium_remote_debug_address\"])\n",
    "    gpmDriverPath = str(startedResult[\"selenium_driver_location\"])\n",
    "    options = Options()\n",
    "    options.debugger_address = seleniumRemoteDebugAddress\n",
    "    myService  = service.Service(gpmDriverPath)\n",
    "    return UndetectChromeDriver(service = myService, options=options), profileid"
   ]
  },
  {
   "cell_type": "code",
   "execution_count": null,
   "id": "27eeced2",
   "metadata": {},
   "outputs": [],
   "source": [
    "# Load cookies\n",
    "def reload_cookies():\n",
    "    driver.get(f'https://www.godaddy.com/domainsearch/find?checkAvail=1&domainToCheck={random.choice(domains)}')\n",
    "    # Có thể optimize bằng chờ load element thay vì mặc định 10s\n",
    "    time.sleep(10)\n",
    "    return {\"bm_sz\": driver.get_cookie(\"bm_sz\")['value'],\n",
    "          \"visitor\": driver.get_cookie(\"visitor\")['value'],\n",
    "          \"market\": \"en-US\"}"
   ]
  },
  {
   "cell_type": "code",
   "execution_count": null,
   "id": "8222a31e",
   "metadata": {},
   "outputs": [],
   "source": [
    "# Proxies Debug\n",
    "proxies = {'http': 'http://192.168.113.6:1234',\n",
    "           'https': 'http://192.168.113.6:1234'}"
   ]
  },
  {
   "cell_type": "code",
   "execution_count": null,
   "id": "2255d806",
   "metadata": {},
   "outputs": [],
   "source": [
    "# Data lưu list json dự liệu\n",
    "data = []\n",
    "# Biến đếm lỗi.\n",
    "c = 0\n",
    "# Khởi tạo GPM\n",
    "driver, profile_id = init_driver()\n",
    "# Lấy cookies\n",
    "cookies = reload_cookies()"
   ]
  },
  {
   "cell_type": "code",
   "execution_count": null,
   "id": "80527272",
   "metadata": {
    "scrolled": true
   },
   "outputs": [],
   "source": [
    "for domain in domains:\n",
    "    # Nếu domain đã get bỏ qua\n",
    "    if domain in [domain['ClientRequestIn']['DomainName'] for domain in data]:\n",
    "        continue\n",
    "    while True:\n",
    "        try:\n",
    "            r = requests.get(f'https://www.godaddy.com/domainfind/v1/search/exact?req_id={int(time.time() * 1000)}&key=dpp_search&q={domain}', cookies=cookies, headers=HEADERS)\n",
    "            print(r.status_code)\n",
    "            # Hạn chế IP\n",
    "            if r.status_code == 429:\n",
    "                print('IP')\n",
    "                raise\n",
    "            # Hạn chế Session và Browser\n",
    "            elif r.status_code == 403:\n",
    "                c += 1\n",
    "                # Lỗi 403 quá 3 lần thay profile GPM\n",
    "                if c >= 3:\n",
    "                    driver.close()\n",
    "                    api.Delete(profile_id)\n",
    "                    driver, profile = init_driver()\n",
    "                    c = 0\n",
    "                # Refresh lại cookies\n",
    "                cookies = reload_cookies()\n",
    "            # Lấy dự liệu thành công\n",
    "            elif r.status_code == 200:\n",
    "                data.append(r.json())\n",
    "                c = 0\n",
    "                print(f'{domain} Done!')\n",
    "                break\n",
    "        except Exception as e:\n",
    "            print(c, e)\n"
   ]
  },
  {
   "cell_type": "code",
   "execution_count": null,
   "id": "ede5af46",
   "metadata": {},
   "outputs": [],
   "source": [
    "\n",
    "\"\"\" \n",
    "Xử lý dữ liệu\n",
    "Có 2 dạng url:\n",
    "Get It\n",
    "https://auctions.godaddy.com/trpItemListing.aspx?src=dpp&miid={AuctionId}&itc=dpp_absol1\n",
    "Make Offer\n",
    "https://www.godaddy.com/domain-auctions/{domain thay '.' thành '-'}-{AuctionId}?src=dpp&itc=dpp_absol1\n",
    "\"\"\"\n"
   ]
  },
  {
   "cell_type": "code",
   "execution_count": null,
   "id": "844998a4",
   "metadata": {},
   "outputs": [],
   "source": [
    "final_data = []\n",
    "for data_ in data:\n",
    "    domain_name = data_['ClientRequestIn']['DomainName']\n",
    "    price = data_['ExactMatchDomain']['PriceDisplay']\n",
    "    status = STATUS[data_['ExactMatchDomain']['AuctionTypeId']] if price else \"Taken\"\n",
    "    auctionid = data_['ExactMatchDomain']['AuctionId']\n",
    "    if status == 'Get It':\n",
    "        url = f'https://auctions.godaddy.com/trpItemListing.aspx?src=dpp&miid={auctionid}&itc=dpp_absol1'\n",
    "    elif status == 'Make Offer':\n",
    "        url = f\"https://www.godaddy.com/domain-auctions/{domain_name.replace('.', '-')}-{auctionid}?src=dpp&itc=dpp_absol1\"\n",
    "    else:\n",
    "        url = \"\"\n",
    "    final_data.append((domain_name, status, price, url))\n"
   ]
  },
  {
   "cell_type": "code",
   "execution_count": null,
   "id": "9d931b92",
   "metadata": {
    "scrolled": true
   },
   "outputs": [],
   "source": [
    "pd.DataFrame(final_data, columns = ['Domain Name', 'Status', 'Price', 'URL']).to_csv('ouput.csv')"
   ]
  },
  {
   "cell_type": "code",
   "execution_count": null,
   "id": "405b238d",
   "metadata": {},
   "outputs": [],
   "source": []
  }
 ],
 "metadata": {
  "kernelspec": {
   "display_name": "Python 3 (ipykernel)",
   "language": "python",
   "name": "python3"
  },
  "language_info": {
   "codemirror_mode": {
    "name": "ipython",
    "version": 3
   },
   "file_extension": ".py",
   "mimetype": "text/x-python",
   "name": "python",
   "nbconvert_exporter": "python",
   "pygments_lexer": "ipython3",
   "version": "3.9.12"
  }
 },
 "nbformat": 4,
 "nbformat_minor": 5
}
