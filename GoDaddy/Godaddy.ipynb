{
 "cells": [
  {
   "cell_type": "code",
   "execution_count": null,
   "id": "19688968",
   "metadata": {},
   "outputs": [],
   "source": [
    "import requests\n",
    "import random\n",
    "import time\n",
    "\n",
    "from GPMLoginAPI import GPMLoginAPI\n",
    "from selenium.webdriver.chrome import service\n",
    "from selenium.webdriver.chrome.options import Options\n",
    "from UndetectChromeDriver import UndetectChromeDriver\n"
   ]
  },
  {
   "cell_type": "code",
   "execution_count": null,
   "id": "dcb551ff",
   "metadata": {},
   "outputs": [],
   "source": [
    "HEADERS = {\"Accept\": 'text/html,application/xhtml+xml,application/xml;q=0.9,image/avif,image/webp,image/apng,*/*;q=0.8,application/signed-exchange;v=b3;q=0.9',\n",
    "           \"User-Agent\": 'Mozilla/5.0 (Windows NT 10.0; Win64; x64) AppleWebKit/537.36 (KHTML, like Gecko) Chrome/108.0.0.0 Safari/537.36'}\n"
   ]
  },
  {
   "cell_type": "code",
   "execution_count": null,
   "id": "56903870",
   "metadata": {},
   "outputs": [],
   "source": [
    "domains = open('domain_go.txt').read().splitlines()"
   ]
  },
  {
   "cell_type": "code",
   "execution_count": null,
   "id": "ced35f97",
   "metadata": {},
   "outputs": [],
   "source": [
    "len(domains)"
   ]
  },
  {
   "cell_type": "code",
   "execution_count": null,
   "id": "55c7a1e7",
   "metadata": {},
   "outputs": [],
   "source": [
    "api = GPMLoginAPI('http://127.0.0.1:19995')"
   ]
  },
  {
   "cell_type": "code",
   "execution_count": null,
   "id": "e3ea2bc5",
   "metadata": {},
   "outputs": [],
   "source": [
    "def init_driver():\n",
    "    profileid = api.Create(time.time())['profile_id']\n",
    "    startedResult = api.Start(profileid)\n",
    "    browserLocation = str(startedResult[\"browser_location\"])\n",
    "    seleniumRemoteDebugAddress = str(startedResult[\"selenium_remote_debug_address\"])\n",
    "    gpmDriverPath = str(startedResult[\"selenium_driver_location\"])\n",
    "    options = Options()\n",
    "    options.debugger_address = seleniumRemoteDebugAddress\n",
    "    myService  = service.Service(gpmDriverPath)\n",
    "    return UndetectChromeDriver(service = myService, options=options), profileid"
   ]
  },
  {
   "cell_type": "code",
   "execution_count": null,
   "id": "6f276c48",
   "metadata": {},
   "outputs": [],
   "source": [
    "def reload_cookies():\n",
    "    driver.get(f'https://www.godaddy.com/domainsearch/find?checkAvail=1&domainToCheck={random.choice(domains)}')\n",
    "    time.sleep(10)\n",
    "    return {\"bm_sz\": driver.get_cookie(\"bm_sz\")['value'],\n",
    "          \"visitor\": driver.get_cookie(\"visitor\")['value'],\n",
    "          \"market\": \"en-US\"}"
   ]
  },
  {
   "cell_type": "code",
   "execution_count": null,
   "id": "bcdc45f1",
   "metadata": {},
   "outputs": [],
   "source": [
    "proxies = {'http': 'http://192.168.113.6:1234',\n",
    "           'https': 'http://192.168.113.6:1234'}"
   ]
  },
  {
   "cell_type": "code",
   "execution_count": null,
   "id": "671636ed",
   "metadata": {},
   "outputs": [],
   "source": [
    "data = []\n",
    "c = 0\n",
    "driver, profile_id = init_driver()\n",
    "cookies = reload_cookies()"
   ]
  },
  {
   "cell_type": "code",
   "execution_count": null,
   "id": "1d8adf63",
   "metadata": {
    "scrolled": true
   },
   "outputs": [],
   "source": [
    "for domain in domains:\n",
    "    if domain in [domain['ClientRequestIn']['DomainName'] for domain in data]:\n",
    "        continue\n",
    "    while True:\n",
    "        try:\n",
    "            r = requests.get(f'https://www.godaddy.com/domainfind/v1/search/exact?req_id={int(time.time() * 1000)}&key=dpp_search&q={domain}', cookies=cookies, headers=HEADERS)\n",
    "            print(r.status_code)\n",
    "            if r.status_code == 429:\n",
    "                print('IP')\n",
    "                raise\n",
    "            elif r.status_code == 403:\n",
    "                c += 1\n",
    "                if c >= 3:\n",
    "                    driver.close()\n",
    "                    api.Delete(profile_id)\n",
    "                    driver, profile = init_driver()\n",
    "                    c = 0\n",
    "                cookies = reload_cookies()\n",
    "            elif r.status_code == 200:\n",
    "                data.append(r.json())\n",
    "                c = 0\n",
    "                print(f'{domain} Done!')\n",
    "                break\n",
    "        except Exception as e:\n",
    "            print(c, e)\n"
   ]
  },
  {
   "cell_type": "code",
   "execution_count": null,
   "id": "fd28f944",
   "metadata": {},
   "outputs": [],
   "source": []
  }
 ],
 "metadata": {
  "kernelspec": {
   "display_name": "Python 3 (ipykernel)",
   "language": "python",
   "name": "python3"
  },
  "language_info": {
   "codemirror_mode": {
    "name": "ipython",
    "version": 3
   },
   "file_extension": ".py",
   "mimetype": "text/x-python",
   "name": "python",
   "nbconvert_exporter": "python",
   "pygments_lexer": "ipython3",
   "version": "3.9.12"
  }
 },
 "nbformat": 4,
 "nbformat_minor": 5
}
